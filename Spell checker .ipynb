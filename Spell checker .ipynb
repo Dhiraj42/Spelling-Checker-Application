{
 "cells": [
  {
   "cell_type": "code",
   "execution_count": 38,
   "id": "f15ffbe3",
   "metadata": {},
   "outputs": [],
   "source": [
    "from tkinter import *\n",
    "from textblob import TextBlob\n",
    "from tkinter import font\n",
    "\n",
    "def clearAll():    \n",
    "    word1_field.delete(0, END)\n",
    "    word2_field.delete(0, END)\n",
    "    \n",
    "def correction():\n",
    "    input_word = word1_field.get()\n",
    "    blob_obj = TextBlob(input_word)\n",
    "    corrected_word = str(blob_obj.correct())\n",
    "    word2_field.insert(10, corrected_word)\n",
    "\n",
    "if __name__ == \"__main__\":\n",
    "    root = Tk()\n",
    "    root.configure(background='sky blue')\n",
    "    root.geometry(\"1000x500\")\n",
    "    root.title(\"Spell Corrector\")\n",
    "    label_font=font.Font(weight=\"bold\")\n",
    "    headlabel = Label(root, text='Welcome to Spell Corrector Application',\n",
    "                    fg='black', bg=\"light green\",font=label_font)\n",
    "    label1 = Label(root, text=\"Write Word\",\n",
    "                fg='black', bg='yellow',width=30,font=label_font)\n",
    "    label2 = Label(root, text=\"Corrected Word\",\n",
    "                fg='black', bg='yellow',width=30,font=label_font)\n",
    "\n",
    "    headlabel.grid(row=0, column=1)\n",
    "    label1.grid(row=1, column=0)\n",
    "    label2.grid(row=3, column=0, padx=10)\n",
    "\n",
    "    word1_field = Entry()\n",
    "    word2_field = Entry()\n",
    "\n",
    "    word1_field.grid(row=1, column=1, padx=10, pady=10)\n",
    "    word2_field.grid(row=3, column=1, padx=10, pady=10)\n",
    "\n",
    "    button1 = Button(root, text=\"Correction\", bg=\"red\", fg=\"black\",\n",
    "                    command=correction)\n",
    "\n",
    "    button1.grid(row=2, column=1)\n",
    "\n",
    "\n",
    "    button2 = Button(root, text=\"Clear\", bg=\"red\",\n",
    "                    fg=\"black\", command=clearAll)\n",
    "\n",
    "    button2.grid(row=4, column=1)\n",
    "\n",
    "    root.mainloop()\n",
    "else:\n",
    "    print(\"Your write correct spelling\")"
   ]
  },
  {
   "cell_type": "code",
   "execution_count": null,
   "id": "a152e166",
   "metadata": {},
   "outputs": [],
   "source": []
  },
  {
   "cell_type": "code",
   "execution_count": null,
   "id": "da942760",
   "metadata": {},
   "outputs": [],
   "source": []
  }
 ],
 "metadata": {
  "kernelspec": {
   "display_name": "Python 3 (ipykernel)",
   "language": "python",
   "name": "python3"
  },
  "language_info": {
   "codemirror_mode": {
    "name": "ipython",
    "version": 3
   },
   "file_extension": ".py",
   "mimetype": "text/x-python",
   "name": "python",
   "nbconvert_exporter": "python",
   "pygments_lexer": "ipython3",
   "version": "3.9.12"
  }
 },
 "nbformat": 4,
 "nbformat_minor": 5
}
